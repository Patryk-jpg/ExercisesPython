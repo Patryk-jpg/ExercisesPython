{
  "cells": [
    {
      "cell_type": "markdown",
      "metadata": {
        "id": "view-in-github",
        "colab_type": "text"
      },
      "source": [
        "<a href=\"https://colab.research.google.com/github/Patryk-jpg/ExercisesPython/blob/main/Copy_of_fcc_predict_health_costs_with_regression.ipynb\" target=\"_parent\"><img src=\"https://colab.research.google.com/assets/colab-badge.svg\" alt=\"Open In Colab\"/></a>"
      ]
    },
    {
      "cell_type": "code",
      "execution_count": null,
      "metadata": {
        "id": "1rRo8oNqZ-Rj",
        "colab": {
          "base_uri": "https://localhost:8080/"
        },
        "outputId": "5cb72247-69e3-4a22-88e0-6a9218076c91"
      },
      "outputs": [
        {
          "output_type": "stream",
          "name": "stdout",
          "text": [
            "  Building wheel for tensorflow-docs (setup.py) ... \u001b[?25l\u001b[?25hdone\n",
            "Colab only includes TensorFlow 2.x; %tensorflow_version has no effect.\n"
          ]
        }
      ],
      "source": [
        "# Import libraries. You may or may not use all of these.\n",
        "!pip install -q git+https://github.com/tensorflow/docs\n",
        "import matplotlib.pyplot as plt\n",
        "import numpy as np\n",
        "import pandas as pd\n",
        "\n",
        "try:\n",
        "  # %tensorflow_version only exists in Colab.\n",
        "  %tensorflow_version 2.x\n",
        "except Exception:\n",
        "  pass\n",
        "import tensorflow as tf\n",
        "\n",
        "from tensorflow import keras\n",
        "from tensorflow.keras import layers\n",
        "\n",
        "import tensorflow_docs as tfdocs\n",
        "import tensorflow_docs.plots\n",
        "import tensorflow_docs.modeling"
      ]
    },
    {
      "cell_type": "code",
      "execution_count": null,
      "metadata": {
        "id": "CiX2FI4gZtTt",
        "colab": {
          "base_uri": "https://localhost:8080/",
          "height": 397
        },
        "outputId": "44c00d6b-6427-45c4-ccd8-2008920ed59c"
      },
      "outputs": [
        {
          "output_type": "stream",
          "name": "stdout",
          "text": [
            "--2022-11-07 22:50:17--  https://cdn.freecodecamp.org/project-data/health-costs/insurance.csv\n",
            "Resolving cdn.freecodecamp.org (cdn.freecodecamp.org)... 104.26.2.33, 104.26.3.33, 172.67.70.149, ...\n",
            "Connecting to cdn.freecodecamp.org (cdn.freecodecamp.org)|104.26.2.33|:443... connected.\n",
            "HTTP request sent, awaiting response... 200 OK\n",
            "Length: 50264 (49K) [text/csv]\n",
            "Saving to: ‘insurance.csv’\n",
            "\n",
            "\rinsurance.csv         0%[                    ]       0  --.-KB/s               \rinsurance.csv       100%[===================>]  49.09K  --.-KB/s    in 0.001s  \n",
            "\n",
            "2022-11-07 22:50:17 (42.9 MB/s) - ‘insurance.csv’ saved [50264/50264]\n",
            "\n"
          ]
        },
        {
          "output_type": "execute_result",
          "data": {
            "text/plain": [
              "   age     sex   bmi  children smoker     region  expenses\n",
              "0   19  female  27.9         0    yes  southwest  16884.92\n",
              "1   18    male  33.8         1     no  southeast   1725.55\n",
              "2   28    male  33.0         3     no  southeast   4449.46\n",
              "3   33    male  22.7         0     no  northwest  21984.47\n",
              "4   32    male  28.9         0     no  northwest   3866.86"
            ],
            "text/html": [
              "\n",
              "  <div id=\"df-71fec242-c845-4902-b127-0a1da74eb819\">\n",
              "    <div class=\"colab-df-container\">\n",
              "      <div>\n",
              "<style scoped>\n",
              "    .dataframe tbody tr th:only-of-type {\n",
              "        vertical-align: middle;\n",
              "    }\n",
              "\n",
              "    .dataframe tbody tr th {\n",
              "        vertical-align: top;\n",
              "    }\n",
              "\n",
              "    .dataframe thead th {\n",
              "        text-align: right;\n",
              "    }\n",
              "</style>\n",
              "<table border=\"1\" class=\"dataframe\">\n",
              "  <thead>\n",
              "    <tr style=\"text-align: right;\">\n",
              "      <th></th>\n",
              "      <th>age</th>\n",
              "      <th>sex</th>\n",
              "      <th>bmi</th>\n",
              "      <th>children</th>\n",
              "      <th>smoker</th>\n",
              "      <th>region</th>\n",
              "      <th>expenses</th>\n",
              "    </tr>\n",
              "  </thead>\n",
              "  <tbody>\n",
              "    <tr>\n",
              "      <th>0</th>\n",
              "      <td>19</td>\n",
              "      <td>female</td>\n",
              "      <td>27.9</td>\n",
              "      <td>0</td>\n",
              "      <td>yes</td>\n",
              "      <td>southwest</td>\n",
              "      <td>16884.92</td>\n",
              "    </tr>\n",
              "    <tr>\n",
              "      <th>1</th>\n",
              "      <td>18</td>\n",
              "      <td>male</td>\n",
              "      <td>33.8</td>\n",
              "      <td>1</td>\n",
              "      <td>no</td>\n",
              "      <td>southeast</td>\n",
              "      <td>1725.55</td>\n",
              "    </tr>\n",
              "    <tr>\n",
              "      <th>2</th>\n",
              "      <td>28</td>\n",
              "      <td>male</td>\n",
              "      <td>33.0</td>\n",
              "      <td>3</td>\n",
              "      <td>no</td>\n",
              "      <td>southeast</td>\n",
              "      <td>4449.46</td>\n",
              "    </tr>\n",
              "    <tr>\n",
              "      <th>3</th>\n",
              "      <td>33</td>\n",
              "      <td>male</td>\n",
              "      <td>22.7</td>\n",
              "      <td>0</td>\n",
              "      <td>no</td>\n",
              "      <td>northwest</td>\n",
              "      <td>21984.47</td>\n",
              "    </tr>\n",
              "    <tr>\n",
              "      <th>4</th>\n",
              "      <td>32</td>\n",
              "      <td>male</td>\n",
              "      <td>28.9</td>\n",
              "      <td>0</td>\n",
              "      <td>no</td>\n",
              "      <td>northwest</td>\n",
              "      <td>3866.86</td>\n",
              "    </tr>\n",
              "  </tbody>\n",
              "</table>\n",
              "</div>\n",
              "      <button class=\"colab-df-convert\" onclick=\"convertToInteractive('df-71fec242-c845-4902-b127-0a1da74eb819')\"\n",
              "              title=\"Convert this dataframe to an interactive table.\"\n",
              "              style=\"display:none;\">\n",
              "        \n",
              "  <svg xmlns=\"http://www.w3.org/2000/svg\" height=\"24px\"viewBox=\"0 0 24 24\"\n",
              "       width=\"24px\">\n",
              "    <path d=\"M0 0h24v24H0V0z\" fill=\"none\"/>\n",
              "    <path d=\"M18.56 5.44l.94 2.06.94-2.06 2.06-.94-2.06-.94-.94-2.06-.94 2.06-2.06.94zm-11 1L8.5 8.5l.94-2.06 2.06-.94-2.06-.94L8.5 2.5l-.94 2.06-2.06.94zm10 10l.94 2.06.94-2.06 2.06-.94-2.06-.94-.94-2.06-.94 2.06-2.06.94z\"/><path d=\"M17.41 7.96l-1.37-1.37c-.4-.4-.92-.59-1.43-.59-.52 0-1.04.2-1.43.59L10.3 9.45l-7.72 7.72c-.78.78-.78 2.05 0 2.83L4 21.41c.39.39.9.59 1.41.59.51 0 1.02-.2 1.41-.59l7.78-7.78 2.81-2.81c.8-.78.8-2.07 0-2.86zM5.41 20L4 18.59l7.72-7.72 1.47 1.35L5.41 20z\"/>\n",
              "  </svg>\n",
              "      </button>\n",
              "      \n",
              "  <style>\n",
              "    .colab-df-container {\n",
              "      display:flex;\n",
              "      flex-wrap:wrap;\n",
              "      gap: 12px;\n",
              "    }\n",
              "\n",
              "    .colab-df-convert {\n",
              "      background-color: #E8F0FE;\n",
              "      border: none;\n",
              "      border-radius: 50%;\n",
              "      cursor: pointer;\n",
              "      display: none;\n",
              "      fill: #1967D2;\n",
              "      height: 32px;\n",
              "      padding: 0 0 0 0;\n",
              "      width: 32px;\n",
              "    }\n",
              "\n",
              "    .colab-df-convert:hover {\n",
              "      background-color: #E2EBFA;\n",
              "      box-shadow: 0px 1px 2px rgba(60, 64, 67, 0.3), 0px 1px 3px 1px rgba(60, 64, 67, 0.15);\n",
              "      fill: #174EA6;\n",
              "    }\n",
              "\n",
              "    [theme=dark] .colab-df-convert {\n",
              "      background-color: #3B4455;\n",
              "      fill: #D2E3FC;\n",
              "    }\n",
              "\n",
              "    [theme=dark] .colab-df-convert:hover {\n",
              "      background-color: #434B5C;\n",
              "      box-shadow: 0px 1px 3px 1px rgba(0, 0, 0, 0.15);\n",
              "      filter: drop-shadow(0px 1px 2px rgba(0, 0, 0, 0.3));\n",
              "      fill: #FFFFFF;\n",
              "    }\n",
              "  </style>\n",
              "\n",
              "      <script>\n",
              "        const buttonEl =\n",
              "          document.querySelector('#df-71fec242-c845-4902-b127-0a1da74eb819 button.colab-df-convert');\n",
              "        buttonEl.style.display =\n",
              "          google.colab.kernel.accessAllowed ? 'block' : 'none';\n",
              "\n",
              "        async function convertToInteractive(key) {\n",
              "          const element = document.querySelector('#df-71fec242-c845-4902-b127-0a1da74eb819');\n",
              "          const dataTable =\n",
              "            await google.colab.kernel.invokeFunction('convertToInteractive',\n",
              "                                                     [key], {});\n",
              "          if (!dataTable) return;\n",
              "\n",
              "          const docLinkHtml = 'Like what you see? Visit the ' +\n",
              "            '<a target=\"_blank\" href=https://colab.research.google.com/notebooks/data_table.ipynb>data table notebook</a>'\n",
              "            + ' to learn more about interactive tables.';\n",
              "          element.innerHTML = '';\n",
              "          dataTable['output_type'] = 'display_data';\n",
              "          await google.colab.output.renderOutput(dataTable, element);\n",
              "          const docLink = document.createElement('div');\n",
              "          docLink.innerHTML = docLinkHtml;\n",
              "          element.appendChild(docLink);\n",
              "        }\n",
              "      </script>\n",
              "    </div>\n",
              "  </div>\n",
              "  "
            ]
          },
          "metadata": {},
          "execution_count": 3
        }
      ],
      "source": [
        "# Import data\n",
        "!wget https://cdn.freecodecamp.org/project-data/health-costs/insurance.csv\n",
        "dataset = pd.read_csv('insurance.csv')\n",
        "dataset.head()"
      ]
    },
    {
      "cell_type": "code",
      "source": [
        "print(dataset.region.unique())"
      ],
      "metadata": {
        "colab": {
          "base_uri": "https://localhost:8080/"
        },
        "id": "ncPoDtdwKeCU",
        "outputId": "c3141c63-014d-4ba7-9d51-6a6abffa7e06"
      },
      "execution_count": null,
      "outputs": [
        {
          "output_type": "stream",
          "name": "stdout",
          "text": [
            "['southwest' 'southeast' 'northwest' 'northeast']\n"
          ]
        }
      ]
    },
    {
      "cell_type": "code",
      "source": [
        "dataset.sex = dataset.sex.map({'female':1, 'male':2})\n",
        "dataset.smoker = dataset.smoker.map({'yes' :1 ,'no': 2})\n",
        "dataset.region = dataset.region.map({'southwest':1 , 'southeast':2,'northwest':3,'northeast':4})\n",
        "print(dataset)\n",
        "#dataset = pd.get_dummies(dataset,columns = ['sex'],prefix='sex', prefix_sep='')  I tested this but its not neccesary i think\n",
        "#dataset = pd.get_dummies(dataset,columns = ['region'],prefix='region', prefix_sep='')\n",
        "#dataset = pd.get_dummies(dataset,columns = ['smoker'],prefix='smokes', prefix_sep='')\n",
        "dataset.tail()  "
      ],
      "metadata": {
        "colab": {
          "base_uri": "https://localhost:8080/",
          "height": 449
        },
        "id": "YYhpAUdHIwaz",
        "outputId": "fac2f222-50f5-45de-a68c-ca672f2458be"
      },
      "execution_count": null,
      "outputs": [
        {
          "output_type": "stream",
          "name": "stdout",
          "text": [
            "      age  sex   bmi  children  smoker  region  expenses\n",
            "0      19    1  27.9         0       1       1  16884.92\n",
            "1      18    2  33.8         1       2       2   1725.55\n",
            "2      28    2  33.0         3       2       2   4449.46\n",
            "3      33    2  22.7         0       2       3  21984.47\n",
            "4      32    2  28.9         0       2       3   3866.86\n",
            "...   ...  ...   ...       ...     ...     ...       ...\n",
            "1333   50    2  31.0         3       2       3  10600.55\n",
            "1334   18    1  31.9         0       2       4   2205.98\n",
            "1335   18    1  36.9         0       2       2   1629.83\n",
            "1336   21    1  25.8         0       2       1   2007.95\n",
            "1337   61    1  29.1         0       1       3  29141.36\n",
            "\n",
            "[1338 rows x 7 columns]\n"
          ]
        },
        {
          "output_type": "execute_result",
          "data": {
            "text/plain": [
              "      age  sex   bmi  children  smoker  region  expenses\n",
              "1333   50    2  31.0         3       2       3  10600.55\n",
              "1334   18    1  31.9         0       2       4   2205.98\n",
              "1335   18    1  36.9         0       2       2   1629.83\n",
              "1336   21    1  25.8         0       2       1   2007.95\n",
              "1337   61    1  29.1         0       1       3  29141.36"
            ],
            "text/html": [
              "\n",
              "  <div id=\"df-809df007-e867-436e-b891-2b192aae0c2e\">\n",
              "    <div class=\"colab-df-container\">\n",
              "      <div>\n",
              "<style scoped>\n",
              "    .dataframe tbody tr th:only-of-type {\n",
              "        vertical-align: middle;\n",
              "    }\n",
              "\n",
              "    .dataframe tbody tr th {\n",
              "        vertical-align: top;\n",
              "    }\n",
              "\n",
              "    .dataframe thead th {\n",
              "        text-align: right;\n",
              "    }\n",
              "</style>\n",
              "<table border=\"1\" class=\"dataframe\">\n",
              "  <thead>\n",
              "    <tr style=\"text-align: right;\">\n",
              "      <th></th>\n",
              "      <th>age</th>\n",
              "      <th>sex</th>\n",
              "      <th>bmi</th>\n",
              "      <th>children</th>\n",
              "      <th>smoker</th>\n",
              "      <th>region</th>\n",
              "      <th>expenses</th>\n",
              "    </tr>\n",
              "  </thead>\n",
              "  <tbody>\n",
              "    <tr>\n",
              "      <th>1333</th>\n",
              "      <td>50</td>\n",
              "      <td>2</td>\n",
              "      <td>31.0</td>\n",
              "      <td>3</td>\n",
              "      <td>2</td>\n",
              "      <td>3</td>\n",
              "      <td>10600.55</td>\n",
              "    </tr>\n",
              "    <tr>\n",
              "      <th>1334</th>\n",
              "      <td>18</td>\n",
              "      <td>1</td>\n",
              "      <td>31.9</td>\n",
              "      <td>0</td>\n",
              "      <td>2</td>\n",
              "      <td>4</td>\n",
              "      <td>2205.98</td>\n",
              "    </tr>\n",
              "    <tr>\n",
              "      <th>1335</th>\n",
              "      <td>18</td>\n",
              "      <td>1</td>\n",
              "      <td>36.9</td>\n",
              "      <td>0</td>\n",
              "      <td>2</td>\n",
              "      <td>2</td>\n",
              "      <td>1629.83</td>\n",
              "    </tr>\n",
              "    <tr>\n",
              "      <th>1336</th>\n",
              "      <td>21</td>\n",
              "      <td>1</td>\n",
              "      <td>25.8</td>\n",
              "      <td>0</td>\n",
              "      <td>2</td>\n",
              "      <td>1</td>\n",
              "      <td>2007.95</td>\n",
              "    </tr>\n",
              "    <tr>\n",
              "      <th>1337</th>\n",
              "      <td>61</td>\n",
              "      <td>1</td>\n",
              "      <td>29.1</td>\n",
              "      <td>0</td>\n",
              "      <td>1</td>\n",
              "      <td>3</td>\n",
              "      <td>29141.36</td>\n",
              "    </tr>\n",
              "  </tbody>\n",
              "</table>\n",
              "</div>\n",
              "      <button class=\"colab-df-convert\" onclick=\"convertToInteractive('df-809df007-e867-436e-b891-2b192aae0c2e')\"\n",
              "              title=\"Convert this dataframe to an interactive table.\"\n",
              "              style=\"display:none;\">\n",
              "        \n",
              "  <svg xmlns=\"http://www.w3.org/2000/svg\" height=\"24px\"viewBox=\"0 0 24 24\"\n",
              "       width=\"24px\">\n",
              "    <path d=\"M0 0h24v24H0V0z\" fill=\"none\"/>\n",
              "    <path d=\"M18.56 5.44l.94 2.06.94-2.06 2.06-.94-2.06-.94-.94-2.06-.94 2.06-2.06.94zm-11 1L8.5 8.5l.94-2.06 2.06-.94-2.06-.94L8.5 2.5l-.94 2.06-2.06.94zm10 10l.94 2.06.94-2.06 2.06-.94-2.06-.94-.94-2.06-.94 2.06-2.06.94z\"/><path d=\"M17.41 7.96l-1.37-1.37c-.4-.4-.92-.59-1.43-.59-.52 0-1.04.2-1.43.59L10.3 9.45l-7.72 7.72c-.78.78-.78 2.05 0 2.83L4 21.41c.39.39.9.59 1.41.59.51 0 1.02-.2 1.41-.59l7.78-7.78 2.81-2.81c.8-.78.8-2.07 0-2.86zM5.41 20L4 18.59l7.72-7.72 1.47 1.35L5.41 20z\"/>\n",
              "  </svg>\n",
              "      </button>\n",
              "      \n",
              "  <style>\n",
              "    .colab-df-container {\n",
              "      display:flex;\n",
              "      flex-wrap:wrap;\n",
              "      gap: 12px;\n",
              "    }\n",
              "\n",
              "    .colab-df-convert {\n",
              "      background-color: #E8F0FE;\n",
              "      border: none;\n",
              "      border-radius: 50%;\n",
              "      cursor: pointer;\n",
              "      display: none;\n",
              "      fill: #1967D2;\n",
              "      height: 32px;\n",
              "      padding: 0 0 0 0;\n",
              "      width: 32px;\n",
              "    }\n",
              "\n",
              "    .colab-df-convert:hover {\n",
              "      background-color: #E2EBFA;\n",
              "      box-shadow: 0px 1px 2px rgba(60, 64, 67, 0.3), 0px 1px 3px 1px rgba(60, 64, 67, 0.15);\n",
              "      fill: #174EA6;\n",
              "    }\n",
              "\n",
              "    [theme=dark] .colab-df-convert {\n",
              "      background-color: #3B4455;\n",
              "      fill: #D2E3FC;\n",
              "    }\n",
              "\n",
              "    [theme=dark] .colab-df-convert:hover {\n",
              "      background-color: #434B5C;\n",
              "      box-shadow: 0px 1px 3px 1px rgba(0, 0, 0, 0.15);\n",
              "      filter: drop-shadow(0px 1px 2px rgba(0, 0, 0, 0.3));\n",
              "      fill: #FFFFFF;\n",
              "    }\n",
              "  </style>\n",
              "\n",
              "      <script>\n",
              "        const buttonEl =\n",
              "          document.querySelector('#df-809df007-e867-436e-b891-2b192aae0c2e button.colab-df-convert');\n",
              "        buttonEl.style.display =\n",
              "          google.colab.kernel.accessAllowed ? 'block' : 'none';\n",
              "\n",
              "        async function convertToInteractive(key) {\n",
              "          const element = document.querySelector('#df-809df007-e867-436e-b891-2b192aae0c2e');\n",
              "          const dataTable =\n",
              "            await google.colab.kernel.invokeFunction('convertToInteractive',\n",
              "                                                     [key], {});\n",
              "          if (!dataTable) return;\n",
              "\n",
              "          const docLinkHtml = 'Like what you see? Visit the ' +\n",
              "            '<a target=\"_blank\" href=https://colab.research.google.com/notebooks/data_table.ipynb>data table notebook</a>'\n",
              "            + ' to learn more about interactive tables.';\n",
              "          element.innerHTML = '';\n",
              "          dataTable['output_type'] = 'display_data';\n",
              "          await google.colab.output.renderOutput(dataTable, element);\n",
              "          const docLink = document.createElement('div');\n",
              "          docLink.innerHTML = docLinkHtml;\n",
              "          element.appendChild(docLink);\n",
              "        }\n",
              "      </script>\n",
              "    </div>\n",
              "  </div>\n",
              "  "
            ]
          },
          "metadata": {},
          "execution_count": 5
        }
      ]
    },
    {
      "cell_type": "code",
      "execution_count": null,
      "metadata": {
        "id": "LcopvQh3X-kX",
        "colab": {
          "base_uri": "https://localhost:8080/"
        },
        "outputId": "a0b1257e-7f05-48a3-b845-3eb7001d755a"
      },
      "outputs": [
        {
          "output_type": "stream",
          "name": "stdout",
          "text": [
            "      age  sex   bmi  children  smoker  region\n",
            "578    52    2  30.2         1       2       1\n",
            "610    47    1  29.4         1       2       2\n",
            "569    48    2  40.6         2       1       3\n",
            "1034   61    2  38.4         0       2       3\n",
            "198    51    1  18.1         0       2       3\n",
            "...   ...  ...   ...       ...     ...     ...\n",
            "584    19    2  20.7         0       2       1\n",
            "147    51    1  37.7         1       2       2\n",
            "160    42    1  26.6         0       1       3\n",
            "750    37    1  26.4         0       1       2\n",
            "859    57    2  28.1         0       2       1\n",
            "\n",
            "[1070 rows x 6 columns]\n",
            "11      27808.73\n",
            "23      37701.88\n",
            "24       6203.90\n",
            "25      14001.13\n",
            "28       2775.19\n",
            "          ...   \n",
            "1305     2464.62\n",
            "1315    11272.33\n",
            "1318    19496.72\n",
            "1326     7050.02\n",
            "1333    10600.55\n",
            "Name: expenses, Length: 268, dtype: float64\n",
            "      age  sex   bmi  children  smoker  region\n",
            "11     62    1  26.3         0       1       2\n",
            "23     34    1  31.9         1       1       4\n",
            "24     37    2  28.0         2       2       3\n",
            "25     59    1  27.7         3       2       2\n",
            "28     23    2  17.4         1       2       3\n",
            "...   ...  ...   ...       ...     ...     ...\n",
            "1305   24    1  27.7         0       2       2\n",
            "1315   18    2  28.3         1       2       4\n",
            "1318   35    2  39.7         4       2       4\n",
            "1326   42    1  32.9         0       2       4\n",
            "1333   50    2  31.0         3       2       3\n",
            "\n",
            "[268 rows x 6 columns]\n"
          ]
        }
      ],
      "source": [
        "\n",
        "\n",
        "\n",
        "train_dataset = dataset.sample(frac= 0.8, random_state=0)\n",
        "test_dataset = dataset.drop(train_dataset.index)\n",
        "train_Labels = train_dataset.pop('expenses')\n",
        "test_labels = test_dataset.pop('expenses')\n",
        "print(train_dataset)\n",
        "print(test_labels)\n",
        "\n",
        "\n",
        "print(test_dataset)\n"
      ]
    },
    {
      "cell_type": "code",
      "source": [
        "normalizer = tf.keras.layers.Normalization(axis = -1)\n",
        "normalizer.adapt(np.array(train_dataset))"
      ],
      "metadata": {
        "id": "_3aQkO_ComHm"
      },
      "execution_count": null,
      "outputs": []
    },
    {
      "cell_type": "code",
      "source": [
        "model = keras.Sequential([\n",
        "    normalizer,\n",
        "    tf.keras.layers.Dense(1024, activation = 'relu'),\n",
        "    tf.keras.layers.Dropout(rate = 0.3),\n",
        "    tf.keras.layers.Dense(1024,activation= 'relu'),\n",
        "    tf.keras.layers.Dense(1,activation = 'relu')\n",
        "])\n",
        "model.summary()\n",
        "\n",
        "model.compile(optimizer = tf.keras.optimizers.Adam(learning_rate = 0.1), loss = 'mean_absolute_error', metrics = ['MAE','MSE'])"
      ],
      "metadata": {
        "colab": {
          "base_uri": "https://localhost:8080/"
        },
        "id": "e0nOYdFJoLnm",
        "outputId": "a68444af-7b3c-4a53-fa4e-e9a168ea3f85"
      },
      "execution_count": null,
      "outputs": [
        {
          "output_type": "stream",
          "name": "stdout",
          "text": [
            "Model: \"sequential\"\n",
            "_________________________________________________________________\n",
            " Layer (type)                Output Shape              Param #   \n",
            "=================================================================\n",
            " normalization (Normalizatio  (None, 6)                13        \n",
            " n)                                                              \n",
            "                                                                 \n",
            " dense (Dense)               (None, 1024)              7168      \n",
            "                                                                 \n",
            " dropout (Dropout)           (None, 1024)              0         \n",
            "                                                                 \n",
            " dense_1 (Dense)             (None, 1024)              1049600   \n",
            "                                                                 \n",
            " dense_2 (Dense)             (None, 1)                 1025      \n",
            "                                                                 \n",
            "=================================================================\n",
            "Total params: 1,057,806\n",
            "Trainable params: 1,057,793\n",
            "Non-trainable params: 13\n",
            "_________________________________________________________________\n"
          ]
        }
      ]
    },
    {
      "cell_type": "code",
      "source": [
        "early_stopping = tf.keras.callbacks.EarlyStopping(\n",
        "    patience=15,\n",
        "    min_delta=0.001,\n",
        "    restore_best_weights=True,\n",
        ")"
      ],
      "metadata": {
        "id": "907VS9gWT3Yr"
      },
      "execution_count": null,
      "outputs": []
    },
    {
      "cell_type": "code",
      "source": [
        "history = model.fit(train_dataset, train_Labels, epochs= 100, validation_split = 0.2 ,verbose = 1, callbacks=[early_stopping])"
      ],
      "metadata": {
        "id": "wbSpFWCSpax-",
        "colab": {
          "base_uri": "https://localhost:8080/"
        },
        "outputId": "0a4fd94a-c587-49ab-8099-64578c6361e8"
      },
      "execution_count": null,
      "outputs": [
        {
          "output_type": "stream",
          "name": "stdout",
          "text": [
            "Epoch 1/100\n",
            "27/27 [==============================] - 1s 26ms/step - loss: 5119.7607 - MAE: 5119.7607 - MSE: 69530568.0000 - val_loss: 3270.4180 - val_MAE: 3270.4180 - val_MSE: 34102444.0000\n",
            "Epoch 2/100\n",
            "27/27 [==============================] - 0s 14ms/step - loss: 3411.4812 - MAE: 3411.4812 - MSE: 33699836.0000 - val_loss: 3643.1536 - val_MAE: 3643.1536 - val_MSE: 36742848.0000\n",
            "Epoch 3/100\n",
            "27/27 [==============================] - 0s 15ms/step - loss: 3204.2393 - MAE: 3204.2393 - MSE: 30766972.0000 - val_loss: 2629.7273 - val_MAE: 2629.7273 - val_MSE: 23359416.0000\n",
            "Epoch 4/100\n",
            "27/27 [==============================] - 0s 14ms/step - loss: 2712.6135 - MAE: 2712.6135 - MSE: 25194412.0000 - val_loss: 3045.5046 - val_MAE: 3045.5046 - val_MSE: 29130992.0000\n",
            "Epoch 5/100\n",
            "27/27 [==============================] - 0s 14ms/step - loss: 2909.2544 - MAE: 2909.2544 - MSE: 26634460.0000 - val_loss: 3170.8335 - val_MAE: 3170.8335 - val_MSE: 24358812.0000\n",
            "Epoch 6/100\n",
            "27/27 [==============================] - 0s 14ms/step - loss: 3872.8938 - MAE: 3872.8938 - MSE: 41061640.0000 - val_loss: 3832.9231 - val_MAE: 3832.9231 - val_MSE: 27610500.0000\n",
            "Epoch 7/100\n",
            "27/27 [==============================] - 0s 15ms/step - loss: 2978.6609 - MAE: 2978.6609 - MSE: 28681434.0000 - val_loss: 2750.7651 - val_MAE: 2750.7651 - val_MSE: 23379586.0000\n",
            "Epoch 8/100\n",
            "27/27 [==============================] - 0s 15ms/step - loss: 2863.3264 - MAE: 2863.3264 - MSE: 27237118.0000 - val_loss: 2544.9038 - val_MAE: 2544.9038 - val_MSE: 23056262.0000\n",
            "Epoch 9/100\n",
            "27/27 [==============================] - 0s 14ms/step - loss: 2557.7439 - MAE: 2557.7439 - MSE: 24711362.0000 - val_loss: 3669.8845 - val_MAE: 3669.8845 - val_MSE: 37591816.0000\n",
            "Epoch 10/100\n",
            "27/27 [==============================] - 0s 14ms/step - loss: 2708.2817 - MAE: 2708.2817 - MSE: 26310956.0000 - val_loss: 2396.1780 - val_MAE: 2396.1780 - val_MSE: 23166756.0000\n",
            "Epoch 11/100\n",
            "27/27 [==============================] - 0s 15ms/step - loss: 2467.7019 - MAE: 2467.7019 - MSE: 23749454.0000 - val_loss: 2423.2522 - val_MAE: 2423.2522 - val_MSE: 19072618.0000\n",
            "Epoch 12/100\n",
            "27/27 [==============================] - 0s 14ms/step - loss: 2610.9238 - MAE: 2610.9238 - MSE: 24374926.0000 - val_loss: 2702.1560 - val_MAE: 2702.1560 - val_MSE: 26675258.0000\n",
            "Epoch 13/100\n",
            "27/27 [==============================] - 0s 14ms/step - loss: 2733.8391 - MAE: 2733.8391 - MSE: 26243406.0000 - val_loss: 2381.4131 - val_MAE: 2381.4131 - val_MSE: 23500122.0000\n",
            "Epoch 14/100\n",
            "27/27 [==============================] - 0s 14ms/step - loss: 2466.7996 - MAE: 2466.7996 - MSE: 24180228.0000 - val_loss: 2133.5444 - val_MAE: 2133.5444 - val_MSE: 20072436.0000\n",
            "Epoch 15/100\n",
            "27/27 [==============================] - 1s 19ms/step - loss: 2445.1536 - MAE: 2445.1536 - MSE: 23819716.0000 - val_loss: 2536.2332 - val_MAE: 2536.2332 - val_MSE: 28814018.0000\n",
            "Epoch 16/100\n",
            "27/27 [==============================] - 0s 14ms/step - loss: 2305.0500 - MAE: 2305.0500 - MSE: 23336654.0000 - val_loss: 2750.1653 - val_MAE: 2750.1653 - val_MSE: 24582158.0000\n",
            "Epoch 17/100\n",
            "27/27 [==============================] - 0s 14ms/step - loss: 2618.8672 - MAE: 2618.8672 - MSE: 26002080.0000 - val_loss: 1950.2150 - val_MAE: 1950.2150 - val_MSE: 20804052.0000\n",
            "Epoch 18/100\n",
            "27/27 [==============================] - 0s 14ms/step - loss: 2301.3875 - MAE: 2301.3875 - MSE: 23127438.0000 - val_loss: 2193.1948 - val_MAE: 2193.1948 - val_MSE: 19127342.0000\n",
            "Epoch 19/100\n",
            "27/27 [==============================] - 0s 16ms/step - loss: 2236.9065 - MAE: 2236.9065 - MSE: 22362158.0000 - val_loss: 2929.7261 - val_MAE: 2929.7261 - val_MSE: 20560192.0000\n",
            "Epoch 20/100\n",
            "27/27 [==============================] - 0s 14ms/step - loss: 2502.9751 - MAE: 2502.9751 - MSE: 23447118.0000 - val_loss: 2433.7607 - val_MAE: 2433.7607 - val_MSE: 25798912.0000\n",
            "Epoch 21/100\n",
            "27/27 [==============================] - 0s 14ms/step - loss: 2461.6672 - MAE: 2461.6672 - MSE: 23445606.0000 - val_loss: 2351.2024 - val_MAE: 2351.2024 - val_MSE: 25444774.0000\n",
            "Epoch 22/100\n",
            "27/27 [==============================] - 0s 14ms/step - loss: 2272.8982 - MAE: 2272.8982 - MSE: 23699680.0000 - val_loss: 2118.1172 - val_MAE: 2118.1172 - val_MSE: 21984702.0000\n",
            "Epoch 23/100\n",
            "27/27 [==============================] - 0s 15ms/step - loss: 2183.0779 - MAE: 2183.0779 - MSE: 21849222.0000 - val_loss: 2030.7998 - val_MAE: 2030.7998 - val_MSE: 22177126.0000\n",
            "Epoch 24/100\n",
            "27/27 [==============================] - 0s 14ms/step - loss: 2207.6775 - MAE: 2207.6775 - MSE: 22150050.0000 - val_loss: 2853.9961 - val_MAE: 2853.9961 - val_MSE: 20729438.0000\n",
            "Epoch 25/100\n",
            "27/27 [==============================] - 0s 14ms/step - loss: 2448.8000 - MAE: 2448.8000 - MSE: 23691532.0000 - val_loss: 2125.0139 - val_MAE: 2125.0139 - val_MSE: 20021166.0000\n",
            "Epoch 26/100\n",
            "27/27 [==============================] - 0s 14ms/step - loss: 2153.3093 - MAE: 2153.3093 - MSE: 22256684.0000 - val_loss: 1996.7003 - val_MAE: 1996.7003 - val_MSE: 21715398.0000\n",
            "Epoch 27/100\n",
            "27/27 [==============================] - 0s 15ms/step - loss: 2247.7637 - MAE: 2247.7637 - MSE: 22552140.0000 - val_loss: 2000.4213 - val_MAE: 2000.4213 - val_MSE: 19875562.0000\n",
            "Epoch 28/100\n",
            "27/27 [==============================] - 0s 14ms/step - loss: 2206.1052 - MAE: 2206.1052 - MSE: 21830200.0000 - val_loss: 1727.4440 - val_MAE: 1727.4440 - val_MSE: 19980700.0000\n",
            "Epoch 29/100\n",
            "27/27 [==============================] - 0s 15ms/step - loss: 2063.6626 - MAE: 2063.6626 - MSE: 20344166.0000 - val_loss: 1878.0935 - val_MAE: 1878.0936 - val_MSE: 21106294.0000\n",
            "Epoch 30/100\n",
            "27/27 [==============================] - 0s 14ms/step - loss: 2110.3665 - MAE: 2110.3665 - MSE: 21190396.0000 - val_loss: 1946.8680 - val_MAE: 1946.8680 - val_MSE: 18652552.0000\n",
            "Epoch 31/100\n",
            "27/27 [==============================] - 0s 14ms/step - loss: 2198.1357 - MAE: 2198.1357 - MSE: 22393882.0000 - val_loss: 1983.3718 - val_MAE: 1983.3718 - val_MSE: 22446138.0000\n",
            "Epoch 32/100\n",
            "27/27 [==============================] - 0s 14ms/step - loss: 2170.8882 - MAE: 2170.8882 - MSE: 21077518.0000 - val_loss: 1888.1735 - val_MAE: 1888.1735 - val_MSE: 20126368.0000\n",
            "Epoch 33/100\n",
            "27/27 [==============================] - 0s 14ms/step - loss: 2095.3149 - MAE: 2095.3149 - MSE: 21361530.0000 - val_loss: 2227.4526 - val_MAE: 2227.4526 - val_MSE: 25012174.0000\n",
            "Epoch 34/100\n",
            "27/27 [==============================] - 0s 14ms/step - loss: 1982.2428 - MAE: 1982.2428 - MSE: 20776090.0000 - val_loss: 1747.6637 - val_MAE: 1747.6637 - val_MSE: 20395836.0000\n",
            "Epoch 35/100\n",
            "27/27 [==============================] - 0s 14ms/step - loss: 2111.7175 - MAE: 2111.7175 - MSE: 21722108.0000 - val_loss: 1652.2084 - val_MAE: 1652.2084 - val_MSE: 19557380.0000\n",
            "Epoch 36/100\n",
            "27/27 [==============================] - 0s 14ms/step - loss: 1957.4474 - MAE: 1957.4474 - MSE: 20251668.0000 - val_loss: 1568.5746 - val_MAE: 1568.5746 - val_MSE: 19492968.0000\n",
            "Epoch 37/100\n",
            "27/27 [==============================] - 0s 14ms/step - loss: 1893.0067 - MAE: 1893.0067 - MSE: 19785450.0000 - val_loss: 2086.7561 - val_MAE: 2086.7561 - val_MSE: 20463722.0000\n",
            "Epoch 38/100\n",
            "27/27 [==============================] - 1s 20ms/step - loss: 1985.5520 - MAE: 1985.5520 - MSE: 20239502.0000 - val_loss: 1833.6095 - val_MAE: 1833.6095 - val_MSE: 21249558.0000\n",
            "Epoch 39/100\n",
            "27/27 [==============================] - 0s 17ms/step - loss: 2002.2200 - MAE: 2002.2200 - MSE: 20513594.0000 - val_loss: 1598.9277 - val_MAE: 1598.9277 - val_MSE: 18755180.0000\n",
            "Epoch 40/100\n",
            "27/27 [==============================] - 0s 15ms/step - loss: 1958.7214 - MAE: 1958.7214 - MSE: 20198326.0000 - val_loss: 1804.0563 - val_MAE: 1804.0563 - val_MSE: 20637876.0000\n",
            "Epoch 41/100\n",
            "27/27 [==============================] - 0s 14ms/step - loss: 2004.6415 - MAE: 2004.6415 - MSE: 20197872.0000 - val_loss: 1909.0626 - val_MAE: 1909.0626 - val_MSE: 18307160.0000\n",
            "Epoch 42/100\n",
            "27/27 [==============================] - 0s 14ms/step - loss: 1893.4590 - MAE: 1893.4590 - MSE: 19713086.0000 - val_loss: 1696.9752 - val_MAE: 1696.9752 - val_MSE: 19746012.0000\n",
            "Epoch 43/100\n",
            "27/27 [==============================] - 0s 14ms/step - loss: 1988.0784 - MAE: 1988.0784 - MSE: 20284220.0000 - val_loss: 2079.6575 - val_MAE: 2079.6575 - val_MSE: 22292760.0000\n",
            "Epoch 44/100\n",
            "27/27 [==============================] - 0s 15ms/step - loss: 2006.5162 - MAE: 2006.5162 - MSE: 19820672.0000 - val_loss: 1765.2894 - val_MAE: 1765.2894 - val_MSE: 19344704.0000\n",
            "Epoch 45/100\n",
            "27/27 [==============================] - 0s 14ms/step - loss: 1924.3168 - MAE: 1924.3168 - MSE: 19754388.0000 - val_loss: 1755.4271 - val_MAE: 1755.4271 - val_MSE: 20163686.0000\n",
            "Epoch 46/100\n",
            "27/27 [==============================] - 0s 14ms/step - loss: 2089.4431 - MAE: 2089.4431 - MSE: 20535128.0000 - val_loss: 1996.7161 - val_MAE: 1996.7161 - val_MSE: 18883958.0000\n",
            "Epoch 47/100\n",
            "27/27 [==============================] - 0s 14ms/step - loss: 1994.1412 - MAE: 1994.1412 - MSE: 20647742.0000 - val_loss: 1797.4033 - val_MAE: 1797.4033 - val_MSE: 18331284.0000\n",
            "Epoch 48/100\n",
            "27/27 [==============================] - 0s 14ms/step - loss: 2105.2998 - MAE: 2105.2998 - MSE: 20892028.0000 - val_loss: 2182.4158 - val_MAE: 2182.4158 - val_MSE: 24964116.0000\n",
            "Epoch 49/100\n",
            "27/27 [==============================] - 0s 15ms/step - loss: 2013.9144 - MAE: 2013.9144 - MSE: 20619702.0000 - val_loss: 2103.3008 - val_MAE: 2103.3008 - val_MSE: 19565820.0000\n",
            "Epoch 50/100\n",
            "27/27 [==============================] - 0s 14ms/step - loss: 1987.5186 - MAE: 1987.5186 - MSE: 20456460.0000 - val_loss: 2009.1945 - val_MAE: 2009.1945 - val_MSE: 19277286.0000\n",
            "Epoch 51/100\n",
            "27/27 [==============================] - 0s 15ms/step - loss: 1927.0690 - MAE: 1927.0690 - MSE: 19910642.0000 - val_loss: 1658.7759 - val_MAE: 1658.7759 - val_MSE: 20109524.0000\n"
          ]
        }
      ]
    },
    {
      "cell_type": "code",
      "source": [
        "print(model.evaluate(test_dataset, test_labels, verbose =2))\n"
      ],
      "metadata": {
        "colab": {
          "base_uri": "https://localhost:8080/"
        },
        "id": "lABZuekbqrn2",
        "outputId": "9bcf7cb4-0d85-4b05-cecb-11ffc57c053d"
      },
      "execution_count": null,
      "outputs": [
        {
          "output_type": "stream",
          "name": "stdout",
          "text": [
            "9/9 - 0s - loss: 2170.6221 - MAE: 2170.6221 - MSE: 30595350.0000 - 31ms/epoch - 3ms/step\n",
            "[2170.6220703125, 2170.6220703125, 30595350.0]\n"
          ]
        }
      ]
    },
    {
      "cell_type": "code",
      "source": [
        "print(test_dataset.iloc[4])\n",
        "print(model.predict(np.array(test_dataset.iloc[4])))\n",
        "print(test_labels.iloc[4])"
      ],
      "metadata": {
        "colab": {
          "base_uri": "https://localhost:8080/"
        },
        "id": "wA0IsSczCSQ_",
        "outputId": "e97e644a-1a10-44ad-a90c-a7b917b929cb"
      },
      "execution_count": null,
      "outputs": [
        {
          "output_type": "stream",
          "name": "stdout",
          "text": [
            "age         23.0\n",
            "sex          2.0\n",
            "bmi         17.4\n",
            "children     1.0\n",
            "smoker       2.0\n",
            "region       3.0\n",
            "Name: 28, dtype: float64\n",
            "1/1 [==============================] - 0s 13ms/step\n",
            "[[2823.398]]\n",
            "2775.19\n"
          ]
        }
      ]
    },
    {
      "cell_type": "code",
      "execution_count": null,
      "metadata": {
        "id": "Xe7RXH3N3CWU",
        "colab": {
          "base_uri": "https://localhost:8080/",
          "height": 352
        },
        "outputId": "f1657242-81a9-4541-c095-cdfdfe710d24"
      },
      "outputs": [
        {
          "output_type": "stream",
          "name": "stdout",
          "text": [
            "9/9 - 0s - loss: 2170.6221 - MAE: 2170.6221 - MSE: 30595350.0000 - 33ms/epoch - 4ms/step\n",
            "Testing set Mean Abs Error: 2170.62 expenses\n",
            "You passed the challenge. Great job!\n",
            "9/9 [==============================] - 0s 3ms/step\n"
          ]
        },
        {
          "output_type": "display_data",
          "data": {
            "text/plain": [
              "<Figure size 432x288 with 1 Axes>"
            ],
            "image/png": "[encoded data removed]"
          },
          "metadata": {
            "needs_background": "light"
          }
        }
      ],
      "source": [
        "# RUN THIS CELL TO TEST YOUR MODEL. DO NOT MODIFY CONTENTS.\n",
        "# Test model by checking how well the model generalizes using the test set.\n",
        "loss, mae, mse = model.evaluate(test_dataset, test_labels, verbose=2)\n",
        "\n",
        "print(\"Testing set Mean Abs Error: {:5.2f} expenses\".format(mae))\n",
        "\n",
        "if mae < 3500:\n",
        "  print(\"You passed the challenge. Great job!\")\n",
        "else:\n",
        "  print(\"The Mean Abs Error must be less than 3500. Keep trying.\")\n",
        "\n",
        "# Plot predictions.\n",
        "test_predictions = model.predict(test_dataset).flatten()\n",
        "\n",
        "a = plt.axes(aspect='equal')\n",
        "plt.scatter(test_labels, test_predictions)\n",
        "plt.xlabel('True values (expenses)')\n",
        "plt.ylabel('Predictions (expenses)')\n",
        "lims = [0, 50000]\n",
        "plt.xlim(lims)\n",
        "plt.ylim(lims)\n",
        "_ = plt.plot(lims,lims)\n"
      ]
    }
  ],
  "metadata": {
    "colab": {
      "collapsed_sections": [],
      "provenance": [],
      "include_colab_link": true
    },
    "kernelspec": {
      "display_name": "Python 3",
      "name": "python3"
    }
  },
  "nbformat": 4,
  "nbformat_minor": 0
}